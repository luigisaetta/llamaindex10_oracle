{
 "cells": [
  {
   "cell_type": "markdown",
   "id": "9c0e01ec-9c28-49df-b0c5-7e90bf6abe0e",
   "metadata": {},
   "source": [
    "### Oracle AI Vector Search wrapped as a llama-index custom Vector Store\n",
    "\n",
    "* inspired by: https://docs.llamaindex.ai/en/stable/examples/low_level/vector_store.html\n",
    "* updated after **OCI GenAI GA**\n",
    "* updated for Llamaindex 0.10+\n",
    "\n",
    "In this **first demo** we show:\n",
    "* how to embed a Text using OCI GenAI Embeddings (Cohere V3)\n",
    "* How to query the Oracle AI Vector Store\n",
    "* How to create a simplified QA retriever using LlamaIndex\n",
    "* How to answer the question using a LLM"
   ]
  },
  {
   "cell_type": "code",
   "execution_count": 1,
   "id": "885d648a-548b-4f1e-930f-2d102f7d8f16",
   "metadata": {},
   "outputs": [
    {
     "name": "stderr",
     "output_type": "stream",
     "text": [
      "/Users/lsaetta/miniforge3/envs/rag_env02/lib/python3.11/site-packages/tqdm/auto.py:21: TqdmWarning: IProgress not found. Please update jupyter and ipywidgets. See https://ipywidgets.readthedocs.io/en/stable/user_install.html\n",
      "  from .autonotebook import tqdm as notebook_tqdm\n"
     ]
    }
   ],
   "source": [
    "import logging\n",
    "\n",
    "from typing import List, Any, Optional, Dict, Tuple\n",
    "from llama_index.core.vector_stores.types import (\n",
    "    VectorStore,\n",
    "    VectorStoreQuery,\n",
    "    VectorStoreQueryResult,\n",
    ")\n",
    "from llama_index.core import VectorStoreIndex\n",
    "from llama_index.core.schema import TextNode, BaseNode, Document\n",
    "from llama_index.core import Settings\n",
    "\n",
    "import ads\n",
    "from oci_utils import load_oci_config\n",
    "from ads.llm import GenerativeAIEmbeddings, GenerativeAI\n",
    "from oracle_vector_db import OracleVectorStore\n",
    "\n",
    "from prepare_chain_4_chat import create_chat_engine\n",
    "\n",
    "from config import EMBED_MODEL\n",
    "from config_private import COMPARTMENT_OCID"
   ]
  },
  {
   "cell_type": "code",
   "execution_count": 2,
   "id": "fdbe7189-f610-4e1d-9de4-4e327b939b8f",
   "metadata": {},
   "outputs": [],
   "source": [
    "# this is the endpoint after GA, for now Chicago Region\n",
    "ENDPOINT = \"https://inference.generativeai.us-chicago-1.oci.oraclecloud.com\""
   ]
  },
  {
   "cell_type": "code",
   "execution_count": 3,
   "id": "77816119-932c-4e18-8011-1e3b02503120",
   "metadata": {},
   "outputs": [],
   "source": [
    "# setup\n",
    "oci_config = load_oci_config()\n",
    "\n",
    "# need to do this way\n",
    "api_keys_config = ads.auth.api_keys(oci_config)\n",
    "\n",
    "# english, or for other language use: multilingual\n",
    "\n",
    "embed_model = GenerativeAIEmbeddings(\n",
    "    compartment_id=COMPARTMENT_OCID,\n",
    "    model=EMBED_MODEL,\n",
    "    auth=api_keys_config,\n",
    "    truncate=\"END\",\n",
    "    # Optionally you can specify keyword arguments for the OCI client, e.g. service_endpoint.\n",
    "    client_kwargs={\"service_endpoint\": ENDPOINT},\n",
    ")\n",
    "\n",
    "# instantiate the client for the LLM\n",
    "llm_oci = GenerativeAI(\n",
    "    compartment_id=COMPARTMENT_OCID,\n",
    "    max_tokens=1024,\n",
    "    temperature=0.1,\n",
    "    # Optionally you can specify keyword arguments for the OCI client, e.g. service_endpoint.\n",
    "    client_kwargs={\"service_endpoint\": ENDPOINT},\n",
    ")"
   ]
  },
  {
   "cell_type": "markdown",
   "id": "98531d22-fc7d-4575-965a-8b6685bdc7f2",
   "metadata": {},
   "source": [
    "#### Using the wrapper for AI Vector Sesarch to find documents relevant to the query"
   ]
  },
  {
   "cell_type": "code",
   "execution_count": 4,
   "id": "d0ce2a88-8950-4c7a-ab67-6bca8d1ac431",
   "metadata": {},
   "outputs": [],
   "source": [
    "v_store = OracleVectorStore(verbose=True)"
   ]
  },
  {
   "cell_type": "code",
   "execution_count": 5,
   "id": "a113f279-17d2-48f4-b8b5-22cf383908fd",
   "metadata": {},
   "outputs": [],
   "source": [
    "question = (\n",
    "    # \"What is JSON Relational Duality in Oracle Database 23c? Explain with details\"\n",
    "    \"What is Oracle Data Guard? Can it be used for Disaster Recovery\"\n",
    ")"
   ]
  },
  {
   "cell_type": "code",
   "execution_count": 6,
   "id": "47efc350-857f-42dd-b5ee-8a1ccfbfff4c",
   "metadata": {},
   "outputs": [],
   "source": [
    "# embed the query using OCI GenAI\n",
    "\n",
    "query_embedding = embed_model.embed_documents([question])[0]\n",
    "\n",
    "#  wrap in llama-index\n",
    "query_obj = VectorStoreQuery(query_embedding=query_embedding, similarity_top_k=6)"
   ]
  },
  {
   "cell_type": "code",
   "execution_count": 7,
   "id": "dddc851e-3f74-4ad2-8c41-78a1aa2e8781",
   "metadata": {},
   "outputs": [
    {
     "name": "stdout",
     "output_type": "stream",
     "text": [
      "CPU times: user 24.4 ms, sys: 7.28 ms, total: 31.7 ms\n",
      "Wall time: 606 ms\n"
     ]
    }
   ],
   "source": [
    "%%time\n",
    "\n",
    "q_result = v_store.query(query_obj)"
   ]
  },
  {
   "cell_type": "markdown",
   "id": "adb96bce-08b7-4688-af5c-247e45ee040f",
   "metadata": {},
   "source": [
    "#### Displays results"
   ]
  },
  {
   "cell_type": "code",
   "execution_count": 8,
   "id": "7331d22c-0555-4a51-ac01-a2b595a15c5a",
   "metadata": {},
   "outputs": [
    {
     "name": "stdout",
     "output_type": "stream",
     "text": [
      "Part IV Oracle Data Guard Best Practices •Overview of MAA Best Practices for Oracle Data Guard •Plan an Oracle Data Guard Deployment •Configure and Deploy Oracle Data Guard •Tune and Troubleshoot Oracle Data Guard •Monitor an Oracle Data Guard Configuration \n",
      "\n",
      "{'file_name': 'high-availability-23c.pdf', 'page_label': '1'}\n",
      "Similarity: 0.3112\n",
      "\n",
      "Part II Oracle Database High Availability Best Practices •Overview of Oracle Database High Availability Best Practices •Oracle Database Configuration Best Practices •Oracle Flashback Best Practices \n",
      "\n",
      "{'file_name': 'high-availability-23c.pdf', 'page_label': '1'}\n",
      "Similarity: 0.3305\n",
      "\n",
      "7 High Availability Data Guard Oracle Data Guard Redo Decryption for Hybrid Disaster Recovery Configurations Oracle Data Guard now provides the capability to decrypt redo operations in hybrid cloud disaster recovery configurations where the cloud database is encrypted with Transparent Data Encryption (TDE) and the on-premises database is not. Hybrid disaster recovery (DR) with Data Guard is now more flexible and easy to configure. Hybrid disaster recovery for the Oracle Database allows you to expand outage and data protection to take advantage of the automation and resources of Oracle Cloud Infrastructure (OCI). By enabling the ability to quickly configure disaster recovery in OCI, even in cases where on-premises databases might not already be encrypted with Transparent Data Encryption (TDE), the steps required to configure hybrid disaster recovery environments and prepare on-premises databases for a DR configuration with cloud databases in OCI have been greatly reduced. Related Resources View Documentation General Flashback Time Travel Enhancements Flashback Time Travel can automatically track and archive transactional changes to tables. Flashback Time Travel creates archives of the changes made to the rows of a table and stores the changes in history tables. It also maintains a history of the evolution of the table's schema. By maintaining the history of the transactional changes to a table and its schema, Flashback Time Travel enables you to perform operations, such as Flashback Query ( AS OF and VERSIONS ), on the table to view the history of the changes made during transaction time. Flashback Time Travel helps to meet compliance requirements based on record-stage policies and audit reports by tracking and storing transactional changes to a table, which has also been made more efficient and performant in this release. Related Resources View Documentation 7-1\n",
      "\n",
      "{'file_name': 'oracle-database-23c-new-features-guide.pdf', 'page_label': '7-1'}\n",
      "Similarity: 0.3482\n",
      "\n",
      "Part III Oracle RAC and Clusterware Best Practices •Overview of Oracle RAC and Clusterware Best Practices \n",
      "\n",
      "{'file_name': 'high-availability-23c.pdf', 'page_label': '1'}\n",
      "Similarity: 0.3528\n",
      "\n",
      "Note: Data Guard life cycle management operations, such as switchover, failover, and reinstatement, are manual processes in a hybrid Data Guard configuration. MAA Recommendations for using Exadata Cloud for Disaster Recovery When deploying Exadata Cloud for Disaster Recovery, Oracle MAA recommends: •Create a cloud database system target that is symmetric or similar to the onpremises primary database to ensure performance SLAs can be met after a role transition. For example, create an Oracle RAC target for an Oracle RAC source, Exadata for Exadata, and so on. •Ensure that network bandwidth can handle peak redo rates in addition to existing network traffic. My Oracle Support document Assessing and Tuning Network Performance for Data Guard and RMAN (Doc ID 2064368.1) provides additional network bandwidth troubleshooting guidance for assessing and tuning network performance for Data Guard and RMAN. •Ensure network reliability and security between on-premises and the Cloud environment. •Use Oracle Active Data Guard for additional automatic block repair, data protection, and offloading benefits. •Use Oracle Transparent Data Encryption (TDE) for both primary and standby databases. My Oracle Support document Oracle Database Tablespace Encryption Behavior in Oracle Cloud (Doc ID 2359020.1) has additional details on TDE behavior in cloud configurations. •Automatic cloud backups should be configured after an optional Data Guard role transition which makes the cloud instance the primary database. Service Level Requirements Oracle Data Guard hybrid deployments are user-managed environments. The service level expectations for availability, data protection, and performance that are practical for a given configuration and application must be determined by your requirements. Service levels must be established for each of the following dimensions relevant to disaster recovery that are applicable to any Data Guard configuration: •Recovery Time Objective (RTO) describes the maximum acceptable downtime if an outage occurs. This includes the time required to detect the outage and to fail over the database and application connections so that service is resumed. •Recovery Point Objective (RPO) describes the maximum amount of data loss that can be tolerated. Achieving the desired RPO depends on: \n",
      "\n",
      "{'file_name': 'high-availability-23c.pdf', 'page_label': '2'}\n",
      "Similarity: 0.363\n",
      "\n",
      "3 Features for Maximizing Availability Familiarize yourself with the following Oracle Database high availability features used in MAA solutions. Oracle Data Guard Oracle Data Guard ensures high availability, data protection, and disaster recovery for enterprise data. Data Guard provides a comprehensive set of services that create, maintain, manage, and monitor one or more standby databases to enable Oracle databases to survive outages of any kind, including natural disasters and data corruptions. A Data Guard standby database is an exact replica of the production database and thus can be transparently utilized in combination with traditional backup, restoration, flashback, and cluster techniques to provide the highest possible level of data protection, data availability and disaster recovery. Data Guard is included in Oracle Enterprise Edition. A Data Guard configuration consists of one primary database and one or more standby databases. A primary database can be either a single-instance Oracle database or an Oracle RAC database. Similar to a primary database, a standby database can be either a singleinstance Oracle database or an Oracle RAC database. Using a backup copy of the primary database, you can create up to 30 standby databases that receive redo directly from the primary database. Optionally you can use a cascaded standby to create Data Guard configurations where the primary transmits redo to a single remote destination, and that destination forwards redo to multiple standby databases. This enables a primary database to efficiently synchronize many more than 30 standby databases if desired. Note: Oracle Active Data Guard is an extension of basic Data Guard providing advanced features that off-load various types of processing from a production database, extend zero data loss protection over any distance, and that enhance high availability. Oracle Active Data Guard is licensed separately from Oracle Database Enterprise Edition. There are several types of standby databases. Data Guard physical standby database is the MAA best practice for data protection and disaster recovery and is the most common type of standby database used. A physical standby database uses Redo Apply (an extension of Oracle media recovery) to maintain an exact, physical replica of the production database. When configured using MAA best practices, Redo Apply uses multiple Oracle-aware validation checks to prevent corruptions that can impact a primary database from impacting the standby. Other types of Data Guard standby databases include: snapshot standby (a standby open read/write for test or other purposes) and logical standby (used to reduce planned downtime). Benefits of Using Data Guard •Continuous Oracle-aware validation of all changes using multiple checks for physical and logical consistency of structures within an Oracle data block and redo, before updates are applied to a standby database. This isolates the standby database and prevents it from being impacted by data corruptions that can occur on the primary system. 3-1\n",
      "\n",
      "{'file_name': 'high-availability-23c.pdf', 'page_label': '3-1'}\n",
      "Similarity: 0.3631\n",
      "\n"
     ]
    }
   ],
   "source": [
    "for n, id, sim in zip(q_result.nodes, q_result.ids, q_result.similarities):\n",
    "\n",
    "    print(n.text)\n",
    "    print(\"\")\n",
    "    print(n.metadata)\n",
    "    print(f\"Similarity: {round(sim, 4)}\")\n",
    "    print(\"\")"
   ]
  },
  {
   "cell_type": "markdown",
   "id": "e811a520-bef5-4070-acaa-f5e4cf45d989",
   "metadata": {},
   "source": [
    "#### Integrate in the RAG picture (the entire chain: Embeddings -> Vector Store -> LLM)"
   ]
  },
  {
   "cell_type": "code",
   "execution_count": 9,
   "id": "bf6b6e81-aaaa-4449-9108-60dae04986d2",
   "metadata": {},
   "outputs": [],
   "source": [
    "# replaced ServiceContext with Settings (llamaindex > 0.10)\n",
    "Settings.embed_model = embed_model\n",
    "Settings.llm = llm_oci\n",
    "\n",
    "index = VectorStoreIndex.from_vector_store(vector_store=v_store)\n",
    "\n",
    "query_engine = index.as_query_engine(similarity_top_k=5)"
   ]
  },
  {
   "cell_type": "code",
   "execution_count": 10,
   "id": "bab5a533-2d39-4b9a-9347-e23823a8925b",
   "metadata": {},
   "outputs": [
    {
     "name": "stdout",
     "output_type": "stream",
     "text": [
      "Question: What is Oracle Data Guard? Can it be used for Disaster Recovery\n",
      "\n",
      "Oracle Data Guard is a tool that helps you to configure and maintain high availability and disaster recovery for your Oracle databases. It ensures that there is always a backup database available to take over in the event of a failure or outage. You can also use Oracle Data Guard to manage and monitor your databases to ensure that they are always available and that data is protected. \n",
      "\n",
      "Data Guard works by replicating and storing the changes made to a database in another database, known as the standby database. This allows for continuous access to data even if the primary database is unavailable. \n",
      "\n",
      "Disaster recovery with Data Guard in a hybrid environment involves using both on-premises databases and cloud databases in Oracle Cloud Infrastructure (OCI). It enables you to extend outage and data protection by leveraging the automation and resources of the cloud. \n",
      "\n",
      "Some best practices for using Oracle Data Guard for disaster recovery in Exadata Cloud include ensuring that the network has sufficient bandwidth to handle peak redo rates, using Oracle Active Data Guard for additional automatic block repair and data protection, and using Oracle Transparent Data Encryption (TDE) for data encryption. \n",
      "\n",
      "In a hybrid disaster recovery configuration with Data Guard, life cycle management operations such as switchover, failover, and reinstatement are manual processes. \n",
      "\n",
      "It is important to note that to use Data Guard for disaster recovery, network reliability and security between on-premises and the Cloud environment must be ensured. \n",
      "\n",
      "Overall, Oracle Data Guard is a powerful tool for maintaining high availability and disaster recovery for your Oracle databases, and can be particularly useful in hybrid environments that include both on-premises and cloud databases. \n",
      "\n",
      "Would you like to know more about Oracle Data Guard and its use cases? \n",
      "\n",
      "CPU times: user 177 ms, sys: 87.8 ms, total: 264 ms\n",
      "Wall time: 15.1 s\n"
     ]
    }
   ],
   "source": [
    "%%time\n",
    "\n",
    "response = query_engine.query(question)\n",
    "\n",
    "print(f\"Question: {question}\")\n",
    "print(\"\")\n",
    "print(response.response)\n",
    "print(\"\")"
   ]
  },
  {
   "cell_type": "markdown",
   "id": "976c98d6-7364-466b-b715-e6e8a9733e4a",
   "metadata": {},
   "source": [
    "#### Using the chat engine: a single line of code"
   ]
  },
  {
   "cell_type": "code",
   "execution_count": 17,
   "id": "864f31d3-d6b2-4e16-afec-a569ac709c1b",
   "metadata": {},
   "outputs": [],
   "source": [
    "chat_engine, token_counter = create_chat_engine(token_counter=None, verbose=False)"
   ]
  },
  {
   "cell_type": "code",
   "execution_count": 18,
   "id": "d37d1009-f4fb-409a-99b1-4fa5cdaf22f9",
   "metadata": {},
   "outputs": [],
   "source": [
    "response = chat_engine.chat(question)"
   ]
  },
  {
   "cell_type": "code",
   "execution_count": 19,
   "id": "4e3cdb12-5a51-4321-83c4-9c103fbceb70",
   "metadata": {},
   "outputs": [
    {
     "name": "stdout",
     "output_type": "stream",
     "text": [
      "Oracle Data Guard is a high availability feature used in Maximum Availability Architecture (MAA) solutions. It ensures availability and protection for enterprise data in the event of any outages, including natural disasters and data corruption, thus enabling disaster recovery.\n",
      "\n",
      "Data Guard creates exact replicas, called standby databases, of primary databases, which can be used for various purposes, including disaster recovery. These standby databases receive redo logs from the primary database, enabling them to stay up-to-date and synchronize with it. In case of a disaster or outage affecting the primary database, a standby database can quickly take over, minimizing downtime and ensuring continuous operations. \n",
      "\n",
      "Data Guard also provides features like automatic corruption repair, reducing downtime for maintenance and upgrades, and the ability to offload certain activities to the standby database. It integrates seamlessly with other Oracle technologies, such as Oracle RAC, RMAN, and Enterprise Manager, enhancing the overall high availability and serviceability of the database system.\n",
      "\n",
      "Additionally, with the introduction of Redo Decryption in Oracle Data Guard, it is now possible to have a hybrid cloud disaster recovery setup. This feature enables decryption of redo operations in situations where the cloud-based database is encrypted with Transparent Data Encryption (TDE), but the on-premises database is not. This enhancement makes it more convenient and secure to configure disaster recovery across different environments.\n",
      "\n",
      "In summary, Oracle Data Guard is a powerful tool for disaster recovery and ensuring high availability, making it an essential component of any organization's data protection strategy.\n"
     ]
    }
   ],
   "source": [
    "print(response)"
   ]
  },
  {
   "cell_type": "code",
   "execution_count": 22,
   "id": "067c2cdd-af7a-4135-a1eb-88617b8dd329",
   "metadata": {},
   "outputs": [
    {
     "data": {
      "text/plain": [
       "380"
      ]
     },
     "execution_count": 22,
     "metadata": {},
     "output_type": "execute_result"
    }
   ],
   "source": [
    "# if yiu want to count the token\n",
    "token_counter.completion_llm_token_count"
   ]
  },
  {
   "cell_type": "code",
   "execution_count": null,
   "id": "350c8d76-6292-4d42-bcd9-3344f66e60fd",
   "metadata": {},
   "outputs": [],
   "source": []
  }
 ],
 "metadata": {
  "kernelspec": {
   "display_name": "Python 3 (ipykernel)",
   "language": "python",
   "name": "python3"
  },
  "language_info": {
   "codemirror_mode": {
    "name": "ipython",
    "version": 3
   },
   "file_extension": ".py",
   "mimetype": "text/x-python",
   "name": "python",
   "nbconvert_exporter": "python",
   "pygments_lexer": "ipython3",
   "version": "3.11.8"
  }
 },
 "nbformat": 4,
 "nbformat_minor": 5
}
