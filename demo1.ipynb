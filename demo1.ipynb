{
 "cells": [
  {
   "cell_type": "markdown",
   "id": "9c0e01ec-9c28-49df-b0c5-7e90bf6abe0e",
   "metadata": {},
   "source": [
    "### Oracle AI Vector Search wrapped as a llama-index custom Vector Store\n",
    "\n",
    "* inspired by: https://docs.llamaindex.ai/en/stable/examples/low_level/vector_store.html\n",
    "* updated for **Llamaindex 0.10+**\n",
    "\n",
    "In this **first demo** we show:\n",
    "* how to embed a Text using OCI GenAI Embeddings (Cohere V3)\n",
    "* How to query the Oracle AI Vector Store\n",
    "* How to create a simplified QA retriever using LlamaIndex\n",
    "* How to answer the question using a chatbot based on a LLM"
   ]
  },
  {
   "cell_type": "code",
   "execution_count": 1,
   "id": "885d648a-548b-4f1e-930f-2d102f7d8f16",
   "metadata": {},
   "outputs": [
    {
     "name": "stderr",
     "output_type": "stream",
     "text": [
      "/Users/lsaetta/miniforge3/envs/rag_env02/lib/python3.11/site-packages/tqdm/auto.py:21: TqdmWarning: IProgress not found. Please update jupyter and ipywidgets. See https://ipywidgets.readthedocs.io/en/stable/user_install.html\n",
      "  from .autonotebook import tqdm as notebook_tqdm\n"
     ]
    }
   ],
   "source": [
    "import logging\n",
    "\n",
    "\n",
    "from llama_index.core.vector_stores.types import (\n",
    "    VectorStore,\n",
    "    VectorStoreQuery,\n",
    "    VectorStoreQueryResult,\n",
    ")\n",
    "from llama_index.core import VectorStoreIndex\n",
    "from llama_index.core import Settings\n",
    "\n",
    "import ads\n",
    "from oci_utils import load_oci_config\n",
    "from ads.llm import GenerativeAIEmbeddings, GenerativeAI\n",
    "from oracle_vector_db import OracleVectorStore\n",
    "\n",
    "from prepare_chain_4_chat import create_chat_engine\n",
    "\n",
    "from config import EMBED_MODEL, TOP_K, TOP_N\n",
    "\n",
    "from config_private import COMPARTMENT_OCID"
   ]
  },
  {
   "cell_type": "code",
   "execution_count": 2,
   "id": "fdbe7189-f610-4e1d-9de4-4e327b939b8f",
   "metadata": {},
   "outputs": [],
   "source": [
    "# this is the endpoint after GA, for now Chicago Region\n",
    "ENDPOINT = \"https://inference.generativeai.us-chicago-1.oci.oraclecloud.com\""
   ]
  },
  {
   "cell_type": "code",
   "execution_count": 3,
   "id": "defb0ed5-4b47-45ca-a348-60433a1fb026",
   "metadata": {},
   "outputs": [],
   "source": [
    "# Configure logging\n",
    "logging.basicConfig(\n",
    "    level=logging.INFO, format=\"%(asctime)s - %(levelname)s - %(message)s\"\n",
    ")"
   ]
  },
  {
   "cell_type": "code",
   "execution_count": 4,
   "id": "77816119-932c-4e18-8011-1e3b02503120",
   "metadata": {},
   "outputs": [],
   "source": [
    "# setup for security\n",
    "# in this example you need to have your api key in $HOME/.oci\n",
    "# inside Data Science you can setup Resource Principal\n",
    "oci_config = load_oci_config()\n",
    "\n",
    "api_keys_config = ads.auth.api_keys(oci_config)\n",
    "\n",
    "# english, or for other language use: multilingual\n",
    "\n",
    "embed_model = GenerativeAIEmbeddings(\n",
    "    compartment_id=COMPARTMENT_OCID,\n",
    "    model=EMBED_MODEL,\n",
    "    auth=api_keys_config,\n",
    "    truncate=\"END\",\n",
    "    # Optionally you can specify keyword arguments for the OCI client, e.g. service_endpoint.\n",
    "    client_kwargs={\"service_endpoint\": ENDPOINT},\n",
    ")\n",
    "\n",
    "# instantiate the client for the LLM\n",
    "llm_oci = GenerativeAI(\n",
    "    compartment_id=COMPARTMENT_OCID,\n",
    "    # you can get these params also from config\n",
    "    max_tokens=1024,\n",
    "    temperature=0.1,\n",
    "    client_kwargs={\"service_endpoint\": ENDPOINT},\n",
    ")"
   ]
  },
  {
   "cell_type": "markdown",
   "id": "98531d22-fc7d-4575-965a-8b6685bdc7f2",
   "metadata": {},
   "source": [
    "#### Using the wrapper for AI Vector Sesarch to find documents relevant to the query"
   ]
  },
  {
   "cell_type": "code",
   "execution_count": 5,
   "id": "d0ce2a88-8950-4c7a-ab67-6bca8d1ac431",
   "metadata": {},
   "outputs": [],
   "source": [
    "v_store = OracleVectorStore(verbose=True)"
   ]
  },
  {
   "cell_type": "code",
   "execution_count": 6,
   "id": "a113f279-17d2-48f4-b8b5-22cf383908fd",
   "metadata": {},
   "outputs": [],
   "source": [
    "question = (\n",
    "    # \"What is JSON Relational Duality in Oracle Database 23c? Explain with details\"\n",
    "    \"What is Oracle Data Guard? Can it be used for Disaster Recovery\"\n",
    ")"
   ]
  },
  {
   "cell_type": "code",
   "execution_count": 7,
   "id": "47efc350-857f-42dd-b5ee-8a1ccfbfff4c",
   "metadata": {},
   "outputs": [],
   "source": [
    "# embed the query using OCI GenAI\n",
    "\n",
    "query_embedding = embed_model.embed_documents([question])[0]\n",
    "\n",
    "#  wrap in llama-index\n",
    "query_obj = VectorStoreQuery(query_embedding=query_embedding, similarity_top_k=TOP_K)"
   ]
  },
  {
   "cell_type": "code",
   "execution_count": 8,
   "id": "dddc851e-3f74-4ad2-8c41-78a1aa2e8781",
   "metadata": {},
   "outputs": [
    {
     "name": "stdout",
     "output_type": "stream",
     "text": [
      "CPU times: user 20.5 ms, sys: 5.89 ms, total: 26.4 ms\n",
      "Wall time: 728 ms\n"
     ]
    }
   ],
   "source": [
    "%%time\n",
    "\n",
    "q_result = v_store.query(query_obj)"
   ]
  },
  {
   "cell_type": "markdown",
   "id": "adb96bce-08b7-4688-af5c-247e45ee040f",
   "metadata": {},
   "source": [
    "#### Displays results from AI Vector Search"
   ]
  },
  {
   "cell_type": "code",
   "execution_count": 9,
   "id": "7331d22c-0555-4a51-ac01-a2b595a15c5a",
   "metadata": {},
   "outputs": [
    {
     "name": "stdout",
     "output_type": "stream",
     "text": [
      "Part IV Oracle Data Guard Best Practices •Overview of MAA Best Practices for Oracle Data Guard •Plan an Oracle Data Guard Deployment •Configure and Deploy Oracle Data Guard •Tune and Troubleshoot Oracle Data Guard •Monitor an Oracle Data Guard Configuration \n",
      "\n",
      "{'file_name': 'high-availability-23c.pdf', 'page_label': '1'}\n",
      "Similarity: 0.3112\n",
      "-------------------------------\n",
      "Part II Oracle Database High Availability Best Practices •Overview of Oracle Database High Availability Best Practices •Oracle Database Configuration Best Practices •Oracle Flashback Best Practices \n",
      "\n",
      "{'file_name': 'high-availability-23c.pdf', 'page_label': '1'}\n",
      "Similarity: 0.3305\n",
      "-------------------------------\n",
      "7 High Availability Data Guard Oracle Data Guard Redo Decryption for Hybrid Disaster Recovery Configurations Oracle Data Guard now provides the capability to decrypt redo operations in hybrid cloud disaster recovery configurations where the cloud database is encrypted with Transparent Data Encryption (TDE) and the on-premises database is not. Hybrid disaster recovery (DR) with Data Guard is now more flexible and easy to configure. Hybrid disaster recovery for the Oracle Database allows you to expand outage and data protection to take advantage of the automation and resources of Oracle Cloud Infrastructure (OCI). By enabling the ability to quickly configure disaster recovery in OCI, even in cases where on-premises databases might not already be encrypted with Transparent Data Encryption (TDE), the steps required to configure hybrid disaster recovery environments and prepare on-premises databases for a DR configuration with cloud databases in OCI have been greatly reduced. Related Resources View Documentation General Flashback Time Travel Enhancements Flashback Time Travel can automatically track and archive transactional changes to tables. Flashback Time Travel creates archives of the changes made to the rows of a table and stores the changes in history tables. It also maintains a history of the evolution of the table's schema. By maintaining the history of the transactional changes to a table and its schema, Flashback Time Travel enables you to perform operations, such as Flashback Query ( AS OF and VERSIONS ), on the table to view the history of the changes made during transaction time. Flashback Time Travel helps to meet compliance requirements based on record-stage policies and audit reports by tracking and storing transactional changes to a table, which has also been made more efficient and performant in this release. Related Resources View Documentation 7-1\n",
      "\n",
      "{'file_name': 'oracle-database-23c-new-features-guide.pdf', 'page_label': '7-1'}\n",
      "Similarity: 0.3482\n",
      "-------------------------------\n",
      "Part III Oracle RAC and Clusterware Best Practices •Overview of Oracle RAC and Clusterware Best Practices \n",
      "\n",
      "{'file_name': 'high-availability-23c.pdf', 'page_label': '1'}\n",
      "Similarity: 0.3528\n",
      "-------------------------------\n",
      "Note: Data Guard life cycle management operations, such as switchover, failover, and reinstatement, are manual processes in a hybrid Data Guard configuration. MAA Recommendations for using Exadata Cloud for Disaster Recovery When deploying Exadata Cloud for Disaster Recovery, Oracle MAA recommends: •Create a cloud database system target that is symmetric or similar to the onpremises primary database to ensure performance SLAs can be met after a role transition. For example, create an Oracle RAC target for an Oracle RAC source, Exadata for Exadata, and so on. •Ensure that network bandwidth can handle peak redo rates in addition to existing network traffic. My Oracle Support document Assessing and Tuning Network Performance for Data Guard and RMAN (Doc ID 2064368.1) provides additional network bandwidth troubleshooting guidance for assessing and tuning network performance for Data Guard and RMAN. •Ensure network reliability and security between on-premises and the Cloud environment. •Use Oracle Active Data Guard for additional automatic block repair, data protection, and offloading benefits. •Use Oracle Transparent Data Encryption (TDE) for both primary and standby databases. My Oracle Support document Oracle Database Tablespace Encryption Behavior in Oracle Cloud (Doc ID 2359020.1) has additional details on TDE behavior in cloud configurations. •Automatic cloud backups should be configured after an optional Data Guard role transition which makes the cloud instance the primary database. Service Level Requirements Oracle Data Guard hybrid deployments are user-managed environments. The service level expectations for availability, data protection, and performance that are practical for a given configuration and application must be determined by your requirements. Service levels must be established for each of the following dimensions relevant to disaster recovery that are applicable to any Data Guard configuration: •Recovery Time Objective (RTO) describes the maximum acceptable downtime if an outage occurs. This includes the time required to detect the outage and to fail over the database and application connections so that service is resumed. •Recovery Point Objective (RPO) describes the maximum amount of data loss that can be tolerated. Achieving the desired RPO depends on: \n",
      "\n",
      "{'file_name': 'high-availability-23c.pdf', 'page_label': '2'}\n",
      "Similarity: 0.363\n",
      "-------------------------------\n",
      "3 Features for Maximizing Availability Familiarize yourself with the following Oracle Database high availability features used in MAA solutions. Oracle Data Guard Oracle Data Guard ensures high availability, data protection, and disaster recovery for enterprise data. Data Guard provides a comprehensive set of services that create, maintain, manage, and monitor one or more standby databases to enable Oracle databases to survive outages of any kind, including natural disasters and data corruptions. A Data Guard standby database is an exact replica of the production database and thus can be transparently utilized in combination with traditional backup, restoration, flashback, and cluster techniques to provide the highest possible level of data protection, data availability and disaster recovery. Data Guard is included in Oracle Enterprise Edition. A Data Guard configuration consists of one primary database and one or more standby databases. A primary database can be either a single-instance Oracle database or an Oracle RAC database. Similar to a primary database, a standby database can be either a singleinstance Oracle database or an Oracle RAC database. Using a backup copy of the primary database, you can create up to 30 standby databases that receive redo directly from the primary database. Optionally you can use a cascaded standby to create Data Guard configurations where the primary transmits redo to a single remote destination, and that destination forwards redo to multiple standby databases. This enables a primary database to efficiently synchronize many more than 30 standby databases if desired. Note: Oracle Active Data Guard is an extension of basic Data Guard providing advanced features that off-load various types of processing from a production database, extend zero data loss protection over any distance, and that enhance high availability. Oracle Active Data Guard is licensed separately from Oracle Database Enterprise Edition. There are several types of standby databases. Data Guard physical standby database is the MAA best practice for data protection and disaster recovery and is the most common type of standby database used. A physical standby database uses Redo Apply (an extension of Oracle media recovery) to maintain an exact, physical replica of the production database. When configured using MAA best practices, Redo Apply uses multiple Oracle-aware validation checks to prevent corruptions that can impact a primary database from impacting the standby. Other types of Data Guard standby databases include: snapshot standby (a standby open read/write for test or other purposes) and logical standby (used to reduce planned downtime). Benefits of Using Data Guard •Continuous Oracle-aware validation of all changes using multiple checks for physical and logical consistency of structures within an Oracle data block and redo, before updates are applied to a standby database. This isolates the standby database and prevents it from being impacted by data corruptions that can occur on the primary system. 3-1\n",
      "\n",
      "{'file_name': 'high-availability-23c.pdf', 'page_label': '3-1'}\n",
      "Similarity: 0.3631\n",
      "-------------------------------\n",
      "•Dynamically change Oracle Data Guard Broker Fast-Start Failover target. The fast-start failover target standby database can be changed dynamically, to another standby database in the target list, without disabling fast-start failover. (new in Oracle Database 19c) •Propagate restore points from primary to standby Site. Restore points created on the primary database are propagated to the standby sites, so that they are available even after a failover operation. (new in Oracle Database 19c) •Oracle Data Guard automatic outage resolution can be tuned to fit your specific needs. Oracle Data Guard has an internal mechanism to detect hung processes and terminate them, allowing the normal outage resolution to occur. (new in Oracle Database 19c) •Active Data Guard DML redirection helps load balancing between the primary and standby databases. Incidental Data Manipulation Language (DML) operations can be run on Active Data Guard standby databases. This allows more applications to benefit from using an Active Data Guard standby database when some writes are required. When incidental DML is issued on an Active Data Guard standby database, the update is passed to the primary database where it is processed. The resulting redo of the transaction updates the standby database after which control is returned to the application. (new in Oracle Database 19c) Oracle Active Data Guard Oracle Active Data Guard is Oracle's strategic solution for real time data protection and disaster recovery for the Oracle database using a physical replication process. Oracle Active Data Guard also provides high return on investment in disaster recovery systems by enabling a standby database to be open read-only while it applies changes received from the primary database. Oracle Active Data Guard is a separately licensed product that provides advanced features that greatly expand Data Guard capabilities included with Oracle Enterprise Edition. Figure 3-1 Oracle Active Data Guard Architecture Oracle Active Data Guard enables administrators to improve performance by offloading processing from the primary database to a physical standby database that is open read-only while it applies updates received from the primary database. Offload capabilities of Oracle Active Data Guard include read-only reporting and ad-hoc queries (including DML to global temporary tables and unique global or sessionChapter 3 Oracle Data Guard 3-4\n",
      "\n",
      "{'file_name': 'high-availability-23c.pdf', 'page_label': '3-4'}\n",
      "Similarity: 0.3656\n",
      "-------------------------------\n",
      "Table 4-1 (Cont.) Outage Types and Oracle High Availability Solutions for Unplanned Downtime Outage Scope Oracle MAA SolutionBenefits Data corruption Oracle Data Guard (MAA recommended) Oracle Active Data Guard Automatic Block Repair DB_LOST_WRITE_PRO TECT initialization parameter·In a Data Guard configuration with an Oracle Active Data Guard standby ±Physical block corruptions detected by Oracle at a primary database are automatically repaired using a good copy of the block retrieved from the standby, and vice versa ±The repair is transparent to the user and application, and data corruptions can definitely be isolated ·With MAA recommended initialization settings, Oracle Active Data Guard and Oracle Exadata Database Machine, achieve most comprehensive full stack corruption protection. ·With DB_LOST_WRITE_PROTECT enabled ±A lost write that occurred on the primary database is detected either by the physical standby database or during media recovery of the primary database, recovery is stopped to preserve the consistency of the database ±Failing over to the standby database using Data Guard will result in some data loss ±Data Guard Broker©s PrimaryLostWrite property supports SHUTDOWN and CONTINUE, plus FAILOVER and FORCEFAILOVER options, when lost writes are detected on the primary database. See Oracle Data Guard Broker ±DB_LOST_WRITE_PROTECT initialization parameter provides lost write detection ·Shadow lost write protection detects a lost write before it can result in major data corruption. You can enable shadow lost write protection for a database, a tablespace, or a data file without requiring an Oracle Data Guard standby database. Note the impact on your workload may vary.Chapter 4 Outage Types and Oracle High Availability Solutions for Unplanned Downtime 4-4\n",
      "\n",
      "{'file_name': 'high-availability-23c.pdf', 'page_label': '4-4'}\n",
      "Similarity: 0.3701\n",
      "-------------------------------\n"
     ]
    }
   ],
   "source": [
    "for n, id, sim in zip(q_result.nodes, q_result.ids, q_result.similarities):\n",
    "\n",
    "    print(n.text)\n",
    "    print(\"\")\n",
    "    print(n.metadata)\n",
    "    print(f\"Similarity: {round(sim, 4)}\")\n",
    "    print(\"-------------------------------\")"
   ]
  },
  {
   "cell_type": "markdown",
   "id": "e811a520-bef5-4070-acaa-f5e4cf45d989",
   "metadata": {},
   "source": [
    "#### Integrate in the RAG picture (the entire chain: Embeddings -> Vector Store -> LLM)"
   ]
  },
  {
   "cell_type": "code",
   "execution_count": 10,
   "id": "bf6b6e81-aaaa-4449-9108-60dae04986d2",
   "metadata": {},
   "outputs": [],
   "source": [
    "# replaced ServiceContext with Settings (llamaindex > 0.10)\n",
    "Settings.embed_model = embed_model\n",
    "Settings.llm = llm_oci\n",
    "\n",
    "index = VectorStoreIndex.from_vector_store(vector_store=v_store)\n",
    "\n",
    "query_engine = index.as_query_engine(similarity_top_k=TOP_K)"
   ]
  },
  {
   "cell_type": "code",
   "execution_count": 11,
   "id": "bab5a533-2d39-4b9a-9347-e23823a8925b",
   "metadata": {},
   "outputs": [
    {
     "name": "stdout",
     "output_type": "stream",
     "text": [
      "Question: What is Oracle Data Guard? Can it be used for Disaster Recovery\n",
      "\n",
      "Oracle Data Guard is a tool for database administrators to ensure data protection, high availability, and disaster recovery for enterprise data. It creates, maintains, manages, and monitors one or more standby databases to enable Oracle databases to survive outages of any kind, including natural disasters and data corruptions. It is a comprehensive set of services that can help protect your data and keep your database highly available. \n",
      "\n",
      "Yes, Oracle Data Guard is a recommended method for disaster recovery (DR). It provides a number of benefits for DR, including:\n",
      "\n",
      "1. Hybrid disaster recovery: Oracle Data Guard supports hybrid disaster recovery in hybrid cloud environments. This allows you to expand outage and data protection to take advantage of the automation and resources of Oracle Cloud Infrastructure (OCI).\n",
      "2. Encryption: Oracle Data Guard can now decrypt redo operations in hybrid cloud disaster recovery configurations where the cloud database is encrypted with Transparent Data Encryption (TDE) and the on-premises database is not.\n",
      "3. Fast recovery times: Oracle Data Guard can help you to achieve your Recovery Time Objectives (RTO) with fast failover to a standby database.\n",
      "4. Flexible configuration: Oracle Data Guard can be used to create a range of standby database configurations, from physical replicas to logical replicas.\n",
      "\n",
      "Therefore, Oracle Data Guard is a powerful tool for database administrators to ensure data integrity and minimize downtime in the event of a disaster. \n",
      "\n",
      "Would you like to know more about Oracle Data Guard or disaster recovery? \n",
      "\n",
      "CPU times: user 294 ms, sys: 95.6 ms, total: 389 ms\n",
      "Wall time: 14.2 s\n"
     ]
    }
   ],
   "source": [
    "%%time\n",
    "\n",
    "response = query_engine.query(question)\n",
    "\n",
    "print(f\"Question: {question}\")\n",
    "print(\"\")\n",
    "print(response.response)\n",
    "print(\"\")"
   ]
  },
  {
   "cell_type": "markdown",
   "id": "976c98d6-7364-466b-b715-e6e8a9733e4a",
   "metadata": {},
   "source": [
    "#### Using the chat engine: a single line of code"
   ]
  },
  {
   "cell_type": "code",
   "execution_count": 12,
   "id": "864f31d3-d6b2-4e16-afec-a569ac709c1b",
   "metadata": {},
   "outputs": [],
   "source": [
    "chat_engine, token_counter = create_chat_engine(token_counter=None, verbose=False)"
   ]
  },
  {
   "cell_type": "code",
   "execution_count": 13,
   "id": "d37d1009-f4fb-409a-99b1-4fa5cdaf22f9",
   "metadata": {},
   "outputs": [],
   "source": [
    "response = chat_engine.chat(question)"
   ]
  },
  {
   "cell_type": "code",
   "execution_count": 14,
   "id": "4e3cdb12-5a51-4321-83c4-9c103fbceb70",
   "metadata": {},
   "outputs": [
    {
     "name": "stdout",
     "output_type": "stream",
     "text": [
      "Oracle Data Guard is a high availability feature used in Maximum Availability Architecture (MAA) solutions. It ensures availability and protection for enterprise data in the event of various outages, including natural disasters and data corruptions. \n",
      "\n",
      "Data Guard creates exact replicas, called standby databases, of primary databases, enabling efficient disaster recovery and data protection. The standby databases receive redo data from the primary database, maintaining synchronization and minimizing data loss. In the event of an outage, applications can switch to the standby database, minimizing downtime. \n",
      "\n",
      "Data Guard offers several benefits, such as continuous validation of changes, automatic corruption repair, reduced downtime for maintenance, and integration with other Oracle technologies. It also supports hybrid disaster recovery, allowing users to expand outage protection to cloud environments, such as Oracle Cloud Infrastructure (OCI). \n",
      "\n",
      "Yes, Oracle Data Guard can be effectively employed for disaster recovery purposes. It provides a robust mechanism to create and manage standby databases, facilitating a seamless transition in case of primary database failures. Data Guard configurations enable organizations to meet stringent recovery time and recovery point objectives, enhancing the resilience of their database infrastructure.\n"
     ]
    }
   ],
   "source": [
    "print(response)"
   ]
  },
  {
   "cell_type": "code",
   "execution_count": 15,
   "id": "067c2cdd-af7a-4135-a1eb-88617b8dd329",
   "metadata": {},
   "outputs": [
    {
     "data": {
      "text/plain": [
       "278"
      ]
     },
     "execution_count": 15,
     "metadata": {},
     "output_type": "execute_result"
    }
   ],
   "source": [
    "# if you want to count the token\n",
    "token_counter.completion_llm_token_count"
   ]
  },
  {
   "cell_type": "markdown",
   "id": "953e17e9-6244-4271-adc6-d06da51f942d",
   "metadata": {},
   "source": [
    "#### The chain keeps the conversation"
   ]
  },
  {
   "cell_type": "code",
   "execution_count": 16,
   "id": "3a566d90-bcca-4e80-8d9d-be8ffe255582",
   "metadata": {},
   "outputs": [],
   "source": [
    "question2 = \"Can it be used to implement RPO close to zero?\"\n",
    "\n",
    "response2 = chat_engine.chat(question2)"
   ]
  },
  {
   "cell_type": "code",
   "execution_count": 17,
   "id": "ec9aff17-18cf-42f4-8f5d-02c2866c7926",
   "metadata": {},
   "outputs": [
    {
     "name": "stdout",
     "output_type": "stream",
     "text": [
      "Yes, Oracle Data Guard can help achieve a Recovery Point Objective (RPO) close to zero. An RPO represents the amount of data loss that is acceptable during an outage or disaster. With certain configurations and under specific conditions, Data Guard can significantly reduce data loss, thereby approaching zero RPO. \n",
      "\n",
      "To achieve near-zero RPO, Oracle Data Guard offers Maximum Availability Protection mode. In this mode, the standby database remains synchronous with the primary database, ensuring that it receives redo data synchronously. This means that the standby database is always current and can quickly take over in case of a failure, leading to minimal data loss. \n",
      "\n",
      "Additionally, Data Guard also provides the Fast Start Failover (FSFO) feature, which can further minimize RPO. FSFO enables the configuration of multiple observers and failover targets. These observers continuously monitor the health of the primary database, and upon detecting a failure, they initiate a failover to the designated standby database. This automated process reduces the time needed to detect and respond to a primary database failure, thereby reducing the potential data loss window. \n",
      "\n",
      "However, it's important to note that achieving zero RPO is challenging and may not always be feasible due to factors such as network latency and system complexities. But with the right configuration, careful planning, and the use of features like Maximum Availability Protection and FSFO, Oracle Data Guard can certainly help organizations approach an RPO of near-zero and improve their data protection significantly.\n"
     ]
    }
   ],
   "source": [
    "print(response2)"
   ]
  },
  {
   "cell_type": "code",
   "execution_count": null,
   "id": "ea5cb85a-c818-47eb-ae92-0784b8898c2f",
   "metadata": {},
   "outputs": [],
   "source": []
  },
  {
   "cell_type": "code",
   "execution_count": null,
   "id": "7ab5935f-5bed-465c-b7c7-f35f89a78bc7",
   "metadata": {},
   "outputs": [],
   "source": []
  }
 ],
 "metadata": {
  "kernelspec": {
   "display_name": "Python 3 (ipykernel)",
   "language": "python",
   "name": "python3"
  },
  "language_info": {
   "codemirror_mode": {
    "name": "ipython",
    "version": 3
   },
   "file_extension": ".py",
   "mimetype": "text/x-python",
   "name": "python",
   "nbconvert_exporter": "python",
   "pygments_lexer": "ipython3",
   "version": "3.11.8"
  }
 },
 "nbformat": 4,
 "nbformat_minor": 5
}
