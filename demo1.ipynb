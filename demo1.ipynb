{
 "cells": [
  {
   "cell_type": "markdown",
   "id": "9c0e01ec-9c28-49df-b0c5-7e90bf6abe0e",
   "metadata": {},
   "source": [
    "### Oracle AI Vector Search wrapped as a llama-index custom Vector Store\n",
    "\n",
    "* inspired by: https://docs.llamaindex.ai/en/stable/examples/low_level/vector_store.html\n",
    "* updated for **Llamaindex 0.10+**\n",
    "\n",
    "In this **first demo** we show:\n",
    "* how to embed a Text using OCI GenAI Embeddings (Cohere V3)\n",
    "* How to query the Oracle AI Vector Store\n",
    "* How to create a simplified QA retriever using LlamaIndex\n",
    "* How to answer the question using a chatbot based on a LLM"
   ]
  },
  {
   "cell_type": "code",
   "execution_count": 1,
   "id": "885d648a-548b-4f1e-930f-2d102f7d8f16",
   "metadata": {},
   "outputs": [
    {
     "name": "stderr",
     "output_type": "stream",
     "text": [
      "/Users/lsaetta/miniforge3/envs/rag_env03/lib/python3.11/site-packages/tqdm/auto.py:21: TqdmWarning: IProgress not found. Please update jupyter and ipywidgets. See https://ipywidgets.readthedocs.io/en/stable/user_install.html\n",
      "  from .autonotebook import tqdm as notebook_tqdm\n",
      "None of PyTorch, TensorFlow >= 2.0, or Flax have been found. Models won't be available and only tokenizers, configuration and file/data utilities can be used.\n"
     ]
    }
   ],
   "source": [
    "import logging\n",
    "\n",
    "\n",
    "from llama_index.core.vector_stores.types import (\n",
    "    VectorStore,\n",
    "    VectorStoreQuery,\n",
    "    VectorStoreQueryResult,\n",
    ")\n",
    "from llama_index.core import VectorStoreIndex\n",
    "from llama_index.core import Settings\n",
    "\n",
    "import ads\n",
    "from oci_utils import load_oci_config\n",
    "from ads.llm import GenerativeAIEmbeddings, GenerativeAI\n",
    "from oracle_vector_db import OracleVectorStore\n",
    "\n",
    "from prepare_chain_4_chat import create_chat_engine\n",
    "\n",
    "from config import EMBED_MODEL, TOP_K, TOP_N\n",
    "\n",
    "from config_private import COMPARTMENT_OCID"
   ]
  },
  {
   "cell_type": "code",
   "execution_count": 2,
   "id": "9057e7ca-608f-404a-ab0d-55924c8f6975",
   "metadata": {},
   "outputs": [
    {
     "name": "stdout",
     "output_type": "stream",
     "text": [
      "2.11.3\n"
     ]
    }
   ],
   "source": [
    "print(ads.__version__)"
   ]
  },
  {
   "cell_type": "code",
   "execution_count": 2,
   "id": "fdbe7189-f610-4e1d-9de4-4e327b939b8f",
   "metadata": {},
   "outputs": [],
   "source": [
    "# disable tracing\n",
    "ADD_PHX_TRACING = False\n",
    "\n",
    "# this is the endpoint after GA, for now Chicago Region\n",
    "ENDPOINT = \"https://inference.generativeai.us-chicago-1.oci.oraclecloud.com\""
   ]
  },
  {
   "cell_type": "code",
   "execution_count": 3,
   "id": "defb0ed5-4b47-45ca-a348-60433a1fb026",
   "metadata": {},
   "outputs": [],
   "source": [
    "# Configure logging\n",
    "logger = logging.getLogger(\"ConsoleLogger\")\n",
    "\n",
    "# to avoid duplication of logging\n",
    "if not logger.handlers:\n",
    "    logger.setLevel(logging.INFO)\n",
    "\n",
    "    handler = logging.StreamHandler()\n",
    "    handler.setLevel(logging.INFO)\n",
    "\n",
    "    formatter = logging.Formatter(\"%(asctime)s - %(message)s\")\n",
    "    handler.setFormatter(formatter)\n",
    "    logger.addHandler(handler)"
   ]
  },
  {
   "cell_type": "code",
   "execution_count": 4,
   "id": "77816119-932c-4e18-8011-1e3b02503120",
   "metadata": {},
   "outputs": [],
   "source": [
    "# setup for security\n",
    "# in this example you need to have your api key in $HOME/.oci\n",
    "# inside Data Science you can setup Resource Principal\n",
    "oci_config = load_oci_config()\n",
    "\n",
    "api_keys_config = ads.auth.api_keys(oci_config)\n",
    "\n",
    "# english, or for other language use: multilingual\n",
    "\n",
    "embed_model = GenerativeAIEmbeddings(\n",
    "    compartment_id=COMPARTMENT_OCID,\n",
    "    model=EMBED_MODEL,\n",
    "    auth=api_keys_config,\n",
    "    truncate=\"END\",\n",
    "    # Optionally you can specify keyword arguments for the OCI client, e.g. service_endpoint.\n",
    "    client_kwargs={\"service_endpoint\": ENDPOINT},\n",
    ")\n",
    "\n",
    "# instantiate the client for the LLM\n",
    "llm_oci = GenerativeAI(\n",
    "    compartment_id=COMPARTMENT_OCID,\n",
    "    # you can get these params also from config\n",
    "    max_tokens=1024,\n",
    "    temperature=0.1,\n",
    "    client_kwargs={\"service_endpoint\": ENDPOINT},\n",
    ")"
   ]
  },
  {
   "cell_type": "markdown",
   "id": "98531d22-fc7d-4575-965a-8b6685bdc7f2",
   "metadata": {},
   "source": [
    "#### Using the wrapper for AI Vector Sesarch to find documents relevant to the query"
   ]
  },
  {
   "cell_type": "code",
   "execution_count": 5,
   "id": "d0ce2a88-8950-4c7a-ab67-6bca8d1ac431",
   "metadata": {},
   "outputs": [],
   "source": [
    "v_store = OracleVectorStore(verbose=True)"
   ]
  },
  {
   "cell_type": "code",
   "execution_count": 6,
   "id": "a113f279-17d2-48f4-b8b5-22cf383908fd",
   "metadata": {},
   "outputs": [],
   "source": [
    "question = (\n",
    "    # \"What is JSON Relational Duality in Oracle Database 23c? Explain with details\"\n",
    "    \"What is Oracle Data Guard? Can it be used for Disaster Recovery\"\n",
    ")"
   ]
  },
  {
   "cell_type": "code",
   "execution_count": 7,
   "id": "47efc350-857f-42dd-b5ee-8a1ccfbfff4c",
   "metadata": {},
   "outputs": [],
   "source": [
    "# embed the query using OCI GenAI\n",
    "\n",
    "query_embedding = embed_model.embed_documents([question])[0]\n",
    "\n",
    "#  wrap in llama-index\n",
    "query_obj = VectorStoreQuery(query_embedding=query_embedding, similarity_top_k=TOP_K)"
   ]
  },
  {
   "cell_type": "code",
   "execution_count": 8,
   "id": "dddc851e-3f74-4ad2-8c41-78a1aa2e8781",
   "metadata": {},
   "outputs": [
    {
     "name": "stderr",
     "output_type": "stream",
     "text": [
      "2024-03-30 12:26:01,516 - SQL Query: select V.id, C.CHUNK, C.PAGE_NUM, \n",
      "                            VECTOR_DISTANCE(V.VEC, :1, COSINE) as d,\n",
      "                            B.NAME \n",
      "                            from VECTORS V, CHUNKS C, BOOKS B\n",
      "                            where C.ID = V.ID and\n",
      "                            C.BOOK_ID = B.ID\n",
      "                            order by d\n",
      "                            FETCH  FIRST 8 ROWS ONLY\n",
      "2024-03-30 12:26:01,516 INFO ConsoleLogger: SQL Query: select V.id, C.CHUNK, C.PAGE_NUM, \n",
      "                            VECTOR_DISTANCE(V.VEC, :1, COSINE) as d,\n",
      "                            B.NAME \n",
      "                            from VECTORS V, CHUNKS C, BOOKS B\n",
      "                            where C.ID = V.ID and\n",
      "                            C.BOOK_ID = B.ID\n",
      "                            order by d\n",
      "                            FETCH  FIRST 8 ROWS ONLY\n",
      "2024-03-30 12:26:01,936 - Query duration: 0.6 sec.\n",
      "2024-03-30 12:26:01,936 INFO ConsoleLogger: Query duration: 0.6 sec.\n"
     ]
    },
    {
     "name": "stdout",
     "output_type": "stream",
     "text": [
      "CPU times: user 21.4 ms, sys: 5.17 ms, total: 26.6 ms\n",
      "Wall time: 638 ms\n"
     ]
    }
   ],
   "source": [
    "%%time\n",
    "\n",
    "q_result = v_store.query(query_obj)"
   ]
  },
  {
   "cell_type": "markdown",
   "id": "adb96bce-08b7-4688-af5c-247e45ee040f",
   "metadata": {},
   "source": [
    "#### Displays results from AI Vector Search"
   ]
  },
  {
   "cell_type": "code",
   "execution_count": 9,
   "id": "7331d22c-0555-4a51-ac01-a2b595a15c5a",
   "metadata": {},
   "outputs": [
    {
     "name": "stdout",
     "output_type": "stream",
     "text": [
      "7 High Availability Data Guard Oracle Data Guard Redo Decryption for Hybrid Disaster Recovery Configurations Oracle Data Guard now provides the capability to decrypt redo operations in hybrid cloud disaster recovery configurations where the cloud database is encrypted with Transparent Data Encryption (TDE) and the on-premises database is not. Hybrid disaster recovery (DR) with Data Guard is now more flexible and easy to configure. Hybrid disaster recovery for the Oracle Database allows you to expand outage and data protection to take advantage of the automation and resources of Oracle Cloud Infrastructure (OCI). By enabling the ability to quickly configure disaster recovery in OCI, even in cases where on-premises databases might not already be encrypted with Transparent Data Encryption (TDE), the steps required to configure hybrid disaster recovery environments and prepare on-premises databases for a DR configuration with cloud databases in OCI have been greatly reduced. Related Resources View Documentation General Flashback Time Travel Enhancements Flashback Time Travel can automatically track and archive transactional changes to tables. Flashback Time Travel creates archives of the changes made to the rows of a table and stores the changes in history tables. It also maintains a history of the evolution of the table's schema. By maintaining the history of the transactional changes to a table and its schema, Flashback Time Travel enables you to perform operations, such as Flashback Query ( AS OF and VERSIONS ), on the table to view the history of the changes made during transaction time. Flashback Time Travel helps to meet compliance requirements based on record-stage policies and audit reports by tracking and storing transactional changes to a table, which has also been made more efficient and performant in this release. Related Resources View Documentation 7-1\n",
      "\n",
      "{'file_name': 'oracle-database-23c-new-features-guide.pdf', 'page_label': '7-1'}\n",
      "Similarity: 0.3484\n",
      "-------------------------------\n",
      "Oracle® Database Oracle Database New Features Release 23c F48428-15 October 2023\n",
      "\n",
      "{'file_name': 'oracle-database-23c-new-features-guide.pdf', 'page_label': '1'}\n",
      "Similarity: 0.4209\n",
      "-------------------------------\n",
      "7 High Availability Data Guard 7-1 Oracle Data Guard Redo Decryption for Hybrid Disaster Recovery Configurations 7-1 General 7-1 Flashback Time Travel Enhancements 7-1 Minimized Stall and More Accurate Lag Detection in Fast-Start Failover Maximum Performance 7-2 Transaction Guard Support during DBMS_ROLLING 7-2 8 Security SQL Firewall 8-1 Oracle SQL Firewall Included in Oracle Database 8-1 Encryption 8-1 Transport Layer Security (TLS) 1.3 Now Supported in Oracle Database 8-1 New Parameter to Control the Behavior of TLS Certificate DN Match 8-2 Simplified Transport Layer Security Configuration 8-2 Ability to Configure Transport Layer Security Connections Without Client Wallets 8-2 New sqlnet.ora Parameter to Prevent the Use of Deprecated Cipher Suites 8-2 AES-XTS Encryption Mode Support for TDE Tablespace Encryption 8-3 Changes for TDE Encryption Algorithms and Modes 8-3 Improved and More Secure Local Auto-Login Wallets 8-3 Audit 8-4 Audit Object Actions at the Column Level for Tables and Views 8-4 Control Authorizations for Unified Auditing and Traditional Auditing 8-4 Authentication 8-4 Microsoft Azure Active Directory Integration with Additional Oracle Database Environments 8-4 ODP.NET: Azure Active Directory Single Sign-On 8-5 Increased Oracle Database Password Length 8-5 JDBC-Thin Support for Longer Passwords 8-5 Oracle Data Pump Export and Import Support for Longer Encryption Passwords 8-5 Oracle Call Interface (OCI) and Oracle C++ Call Interface (OCCI) Password Length Increase 8-6 Updated Kerberos Library and Other Improvements 8-6 Enhancements to RADIUS Configuration 8-6 UTL_HTTP Support for SHA-256 and Other Digest Authentication Standards 8-6 XDB HTTP SHA512 Digest Authentication 8-7 Authorization 8-7 Schema Privileges to Simplify Access Control 8-7 Oracle Label Security Triggers Are Now Part of the New LBAC_TRIGGER Schema 8-7 viii\n",
      "\n",
      "{'file_name': 'oracle-database-23c-new-features-guide.pdf', 'page_label': 'viii'}\n",
      "Similarity: 0.4288\n",
      "-------------------------------\n",
      "Python for Everybody Exploring Data Using Python 3 Dr. Charles R. Severance\n",
      "\n",
      "{'file_name': 'python4everybody.pdf', 'page_label': 'i'}\n",
      "Similarity: 0.4486\n",
      "-------------------------------\n",
      "Oracle Data Dictionary Protection Extended to Non-SYS Oracle Schemas with Separation of Duties Protection 8-7 GoldenGate Capture and Apply User Roles 8-8 Autonomous Database 8-8 Identity and Access Management Integration with Oracle Autonomous Cloud Databases 8-8 ODP.NET: Oracle Identity and Access Management 8-8 Oracle Client Increased Database Password Length 8-9 Other 8-9 Secure Distributed Transaction Recovery Background Process (RECO) 8-9 IP Rate Limit in CMAN 8-9 OCI Attributes for Microsoft Azure Active Directory Integration with Additional Oracle Database Environments 8-9 ODP.NET Transport Layer Security (TLS) 1.3 8-10 9 OLTP and Core Database Availability 9-1 Directory-Based Sharding Method 9-1 Oracle Globally Distributed Database Raft Replication 9-1 Automatic Data Move on Sharding Key Update 9-1 Automatic Transaction Quarantine 9-2 Automatic Transaction Rollback 9-2 Creating Immutable Backups Using RMAN 9-2 Fine-Grained Refresh Rate Control For Duplicated Tables 9-2 Global Partitioned Index Support on Subpartitions 9-3 JDBC Support for Split Partition Set 9-3 Managing Flashback Database Logs Outside the Fast Recovery Area 9-3 Move Data Chunks Between Shardspaces 9-3 New Duplicated Table Type - Synchronous Duplicated Table 9-4 New Partition Set Operations for Composite Sharding 9-4 Oracle Globally Distributed Database Coordinated Backup and Restore Enhancements 9-4 Parallel Cross-Shard DML Support 9-5 PL/SQL Function Cross-Shard Query Support 9-5 Pre-Deployment Diagnostic for Oracle Globally Distributed Database 9-5 RMAN Backup Encryption Algorithm Now Defaults to AES256 9-6 RMAN Operational, Diagnostics, and Upgrade Enhancements 9-6 Simplified Database Migration Across Platforms Using RMAN 9-6 Support for Oracle Database Version Specific RMAN SBT Library 9-6 Blockchain 9-7 Blockchain Table User Chains 9-7 Blockchain Table Row Versions 9-7 ix\n",
      "\n",
      "{'file_name': 'oracle-database-23c-new-features-guide.pdf', 'page_label': 'ix'}\n",
      "Similarity: 0.4611\n",
      "-------------------------------\n",
      "Minimized Stall and More Accurate Lag Detection in Fast-Start Failover Maximum Performance Oracle Data Guard Fast-Start Failover has two additional properties for improved lag detection and status changes. FastStartFailoverLagType sets the lag type that FastStart Failover must consider when in Maximum Performance mode ( APPLY or TRANSPORT ). FastStartFailoverLagGraceTime lets the configuration transition to a preemptive LAGGING state that the observer can acknowledge before reaching the actual lag limit, so the status can transition immediately to TARGET OVER LAG LIMIT without waiting for the observer quorum. The new properties for the Maximum Performance protection mode further enhance Fast-Start Failover capabilities and reduce the impact on application transactions for status changes requiring the observer quorum. Related Resources View Documentation Transaction Guard Support during DBMS_ROLLING Transaction Guard support for DBMS_ROLLING ensures continuous application operation during the switchover issued by DBMS_ROLLING to Transient Logical Standby. The procedure uses the last commit outcome of transactions part of in-flight sessions during a switchover-related outage (or caused by an error/timeout) to protect the applications from duplicate submissions of the transactions on replay. Application Continuity supported by Transaction Guard during database upgrades using DBMS_ROLLING ensures that commit outcomes are guaranteed across the entire upgrade process. Related Resources View DocumentationChapter 7 General 7-2\n",
      "\n",
      "{'file_name': 'oracle-database-23c-new-features-guide.pdf', 'page_label': '7-2'}\n",
      "Similarity: 0.4782\n",
      "-------------------------------\n",
      "•Restoring PDB states when opening the CDB •Setting PDB states when using the PDB OPEN ALL statement •Setting the order for PDB database upgrade operations •Starting PDBs in an Active Data Guard (ADG) switchover or failover This feature allows critical PDBs to start and open before less important PDBs, reducing the time for the critical applications to become usable. Related Resources View Documentation ODP.NET: Centralized Config Providers Managed ODP.NET and ODP.NET Core securely retrieve application configuration data from a centralized on-premises, Oracle Cloud Infrastructure, or Azure location. This store uses a JSON format and contains data, including connection descriptors and tuning parameters. Centralized application configuration makes management and cloning simpler. It suits modern architectures, such as microservices and serverless deployments. Related Resources View Documentation Optimized Performance for Parallel File System Operations This feature allows you to tune performance in environments that contain many PDBs and require multiple DBMS_FS requests to be processed in parallel. You can update the number OFS_THREADS to increase the number of DBMS_FS requests that are executed in parallel. This increases the number of worker threads executing the make, mount, unmount, and destroy operations on Oracle file systems in the Oracle database. An increase in the value of OFS_THREADS results in a significant reduction of time taken to execute parallel file system requests in environments that contain multiple PDBs. This feature significantly reduces the time required to perform parallel file system requests in consolidation environments containing multiple PDBs. Related Resources View Documentation Read-Only Users and Sessions You can control whether a user or session is enabled for read-write operations, irrespective of the privileges of the user that is connected to the database. The READ_ONLY session applies to any type of user for any type of container. The READ_ONLY user only applies to local users. Providing the capability to disable and re-enable the read-write capabilities of any user or session without revoking and re-granting privileges provides you with more flexibility to temporarily control the privileges of users or sessions for testing, administration, or application development purposes. It also gives you a simple way to control the read-Chapter 6 Manageability 6-2\n",
      "\n",
      "{'file_name': 'oracle-database-23c-new-features-guide.pdf', 'page_label': '6-2'}\n",
      "Similarity: 0.4962\n",
      "-------------------------------\n",
      "Add and Drop User Columns in Blockchain and Immutable Tables 9-7 Blockchain Table Countersignature 9-8 Blockchain Table Delegate Signer 9-8 New Special Privilege Required to Set Long Idle Retention Times for Blockchain and Immutable Tables 9-8 Database Architecture 9-9 Lock-Free Reservations 9-9 Wide Tables 9-9 Consolidated Service Backgrounds for Oracle Instance 9-9 Improve Performance and Disk Utilization for Hybrid Columnar Compression 9-9 Unrestricted Direct Loads 9-10 General 9-10 Unrestricted Parallel DMLs 9-10 ACFS Auto Resize Variable Threshold 9-10 ACFS Cross Version Replication 9-11 ACFS Encryption Migration from OCR to OKV 9-11 ACFS Replication Switchover 9-11 ACFS Snapshots RMAN Sparse Backup and Restore 9-11 ACFS Sparse Backup and Restore of Snapshots 9-11 ACFSutil plogconfig Log Files Wrapping Info 9-12 CEIL and FLOOR for DATE, TIMESTAMP, and INTERVAL Data Types 9-12 Centralized Config Providers 9-12 Oracle Data Pump Filters GoldenGate ACDR Columns from Tables 9-12 PDB Snapshot Carousel ACFS Support 9-13 SQL*Loader Supports SODA (Simple Oracle Document Access) 9-13 Manageability and Performance 9-13 Advanced LOW IOT Compression 9-13 Automatic SecureFiles Shrink for Autonomous Database 9-13 Automatic Storage Compression 9-14 Enhanced Query History Tracking and Reporting 9-14 Fast Ingest (Memoptimize for Write) Enhancements 9-14 Improved Performance of LOB Writes 9-15 Improved System Monitor (SMON) Process Scalability 9-15 Pluggable Database Support in Oracle Data Guard Environments 9-15 Refreshable PDBs in DBCA 9-16 10 Diagnosability General 10-1 Cluster Health Monitor Improved Diagnosability 10-1 Enhanced Cluster Health Advisor Support for Oracle Pluggable Databases 10-1 Reduce Time to Resolve 10-1 x\n",
      "\n",
      "{'file_name': 'oracle-database-23c-new-features-guide.pdf', 'page_label': 'x'}\n",
      "Similarity: 0.508\n",
      "-------------------------------\n"
     ]
    }
   ],
   "source": [
    "for n, id, sim in zip(q_result.nodes, q_result.ids, q_result.similarities):\n",
    "\n",
    "    print(n.text)\n",
    "    print(\"\")\n",
    "    print(n.metadata)\n",
    "    print(f\"Similarity: {round(sim, 4)}\")\n",
    "    print(\"-------------------------------\")"
   ]
  },
  {
   "cell_type": "markdown",
   "id": "e811a520-bef5-4070-acaa-f5e4cf45d989",
   "metadata": {},
   "source": [
    "#### Integrate in the RAG picture (the entire chain: Embeddings -> Vector Store -> LLM)"
   ]
  },
  {
   "cell_type": "code",
   "execution_count": 10,
   "id": "bf6b6e81-aaaa-4449-9108-60dae04986d2",
   "metadata": {},
   "outputs": [],
   "source": [
    "# replaced ServiceContext with Settings (llamaindex > 0.10)\n",
    "Settings.embed_model = embed_model\n",
    "Settings.llm = llm_oci\n",
    "\n",
    "index = VectorStoreIndex.from_vector_store(vector_store=v_store)\n",
    "\n",
    "query_engine = index.as_query_engine(similarity_top_k=TOP_K)"
   ]
  },
  {
   "cell_type": "code",
   "execution_count": 11,
   "id": "bab5a533-2d39-4b9a-9347-e23823a8925b",
   "metadata": {},
   "outputs": [
    {
     "name": "stderr",
     "output_type": "stream",
     "text": [
      "2024-03-30 12:26:51,960 - SQL Query: select V.id, C.CHUNK, C.PAGE_NUM, \n",
      "                            VECTOR_DISTANCE(V.VEC, :1, COSINE) as d,\n",
      "                            B.NAME \n",
      "                            from VECTORS V, CHUNKS C, BOOKS B\n",
      "                            where C.ID = V.ID and\n",
      "                            C.BOOK_ID = B.ID\n",
      "                            order by d\n",
      "                            FETCH  FIRST 8 ROWS ONLY\n",
      "2024-03-30 12:26:51,960 INFO ConsoleLogger: SQL Query: select V.id, C.CHUNK, C.PAGE_NUM, \n",
      "                            VECTOR_DISTANCE(V.VEC, :1, COSINE) as d,\n",
      "                            B.NAME \n",
      "                            from VECTORS V, CHUNKS C, BOOKS B\n",
      "                            where C.ID = V.ID and\n",
      "                            C.BOOK_ID = B.ID\n",
      "                            order by d\n",
      "                            FETCH  FIRST 8 ROWS ONLY\n",
      "2024-03-30 12:26:52,391 - Query duration: 0.6 sec.\n",
      "2024-03-30 12:26:52,391 INFO ConsoleLogger: Query duration: 0.6 sec.\n"
     ]
    },
    {
     "name": "stdout",
     "output_type": "stream",
     "text": [
      "Question: What is Oracle Data Guard? Can it be used for Disaster Recovery\n",
      "\n",
      "Oracle Data Guard is a tool that can be used to replicate, manage and protect databases in an Oracle environment. It ensures data is continuously available and protects against data loss. With Oracle Data Guard, you can use hybrid disaster recovery to quickly configure disaster recovery in Oracle Cloud Infrastructure (OCI), even if the on-premises databases are not encrypted with Transparent Data Encryption (TDE). This makes it easy to configure hybrid disaster recovery environments and prepare on-premises databases for a DR configuration with cloud databases in OCI. \n",
      "\n",
      "Would you like to know more about Oracle Data Guard or Disaster Recovery? \n",
      "\n",
      "CPU times: user 216 ms, sys: 97.8 ms, total: 314 ms\n",
      "Wall time: 7.36 s\n"
     ]
    }
   ],
   "source": [
    "%%time\n",
    "\n",
    "response = query_engine.query(question)\n",
    "\n",
    "print(f\"Question: {question}\")\n",
    "print(\"\")\n",
    "print(response.response)\n",
    "print(\"\")"
   ]
  },
  {
   "cell_type": "markdown",
   "id": "976c98d6-7364-466b-b715-e6e8a9733e4a",
   "metadata": {},
   "source": [
    "#### Using the chat engine: a single line of code"
   ]
  },
  {
   "cell_type": "code",
   "execution_count": 12,
   "id": "864f31d3-d6b2-4e16-afec-a569ac709c1b",
   "metadata": {},
   "outputs": [
    {
     "name": "stderr",
     "output_type": "stream",
     "text": [
      "2024-03-30 12:26:58,842 - Calling create_chat_engine()...\n",
      "2024-03-30 12:26:58,842 INFO ConsoleLogger: Calling create_chat_engine()...\n",
      "2024-03-30 12:26:58,846 - ------------------------\n",
      "2024-03-30 12:26:58,846 INFO ConsoleLogger: ------------------------\n",
      "2024-03-30 12:26:58,846 - Configuration used:\n",
      "2024-03-30 12:26:58,846 INFO ConsoleLogger: Configuration used:\n",
      "2024-03-30 12:26:58,848 - OCI cohere.embed-multilingual-v3.0 for embeddings...\n",
      "2024-03-30 12:26:58,848 INFO ConsoleLogger: OCI cohere.embed-multilingual-v3.0 for embeddings...\n",
      "2024-03-30 12:26:58,850 - Using Oracle AI Vector Search...\n",
      "2024-03-30 12:26:58,850 INFO ConsoleLogger: Using Oracle AI Vector Search...\n",
      "2024-03-30 12:26:58,852 - Using COHERE as LLM...\n",
      "2024-03-30 12:26:58,852 INFO ConsoleLogger: Using COHERE as LLM...\n",
      "2024-03-30 12:26:58,853 - Retrieval parameters:\n",
      "2024-03-30 12:26:58,853 INFO ConsoleLogger: Retrieval parameters:\n",
      "2024-03-30 12:26:58,854 - TOP_K: 8\n",
      "2024-03-30 12:26:58,854 INFO ConsoleLogger: TOP_K: 8\n",
      "2024-03-30 12:26:58,855 - Using COHERE as reranker...\n",
      "2024-03-30 12:26:58,855 INFO ConsoleLogger: Using COHERE as reranker...\n",
      "2024-03-30 12:26:58,856 - TOP_N: 4\n",
      "2024-03-30 12:26:58,856 INFO ConsoleLogger: TOP_N: 4\n",
      "2024-03-30 12:26:58,857 - ------------------------\n",
      "2024-03-30 12:26:58,857 INFO ConsoleLogger: ------------------------\n",
      "2024-03-30 12:26:58,858 - \n",
      "2024-03-30 12:26:58,858 INFO ConsoleLogger: \n",
      "2024-03-30 12:26:59,884 - \n",
      "2024-03-30 12:26:59,884 INFO ConsoleLogger: \n"
     ]
    }
   ],
   "source": [
    "chat_engine, token_counter = create_chat_engine(token_counter=None, verbose=False)"
   ]
  },
  {
   "cell_type": "code",
   "execution_count": 13,
   "id": "d37d1009-f4fb-409a-99b1-4fa5cdaf22f9",
   "metadata": {},
   "outputs": [],
   "source": [
    "response = chat_engine.chat(question)"
   ]
  },
  {
   "cell_type": "code",
   "execution_count": 14,
   "id": "4e3cdb12-5a51-4321-83c4-9c103fbceb70",
   "metadata": {},
   "outputs": [
    {
     "name": "stdout",
     "output_type": "stream",
     "text": [
      "Oracle Data Guard is a high availability technology that helps protect against planned and unplanned downtimes. It enables the creation of one or more standby databases that can reside at the same site, at a remote site, or in the cloud. These standby databases continuously receive and apply changes from the primary database, ensuring they are up-to-date and synchronized.\n",
      "\n",
      "Data Guard's key role is in disaster recovery, providing a robust mechanism to recover from various types of disasters, such as:\n",
      "\n",
      "1. Site Disasters: Data Guard can switch to a standby database at a remote site in the event of a natural disaster, such as a fire or flood affecting the primary site. This ensures continuity with minimal data loss.\n",
      "\n",
      "2. Database Corruption or Hardware Failure: If the primary database experiences corruption or hardware issues, Data Guard can quickly switch to a standby database, minimizing outage times while the primary database is being repaired.\n",
      "\n",
      "3. Human Error: Accidental data loss or incorrect data modifications can be reversed by using a standby database to revert to a known good state.\n",
      "\n",
      "Data Guard also facilitates database upgrades and migrations, allowing for a controlled and quick switchover to the new database version or location.\n",
      "\n",
      "So, yes, Oracle Data Guard is a powerful tool for disaster recovery, forming an essential component of any organization's data protection and high availability strategy. It's designed to maintain database availability and reduce the time needed to recover from various types of disasters, making it a valuable addition to any Oracle Database environment.\n"
     ]
    }
   ],
   "source": [
    "print(response)"
   ]
  },
  {
   "cell_type": "code",
   "execution_count": 15,
   "id": "067c2cdd-af7a-4135-a1eb-88617b8dd329",
   "metadata": {},
   "outputs": [
    {
     "data": {
      "text/plain": [
       "343"
      ]
     },
     "execution_count": 15,
     "metadata": {},
     "output_type": "execute_result"
    }
   ],
   "source": [
    "# if you want to count the token\n",
    "token_counter.completion_llm_token_count"
   ]
  },
  {
   "cell_type": "markdown",
   "id": "953e17e9-6244-4271-adc6-d06da51f942d",
   "metadata": {},
   "source": [
    "#### The chain keeps the conversation"
   ]
  },
  {
   "cell_type": "code",
   "execution_count": 16,
   "id": "3a566d90-bcca-4e80-8d9d-be8ffe255582",
   "metadata": {},
   "outputs": [],
   "source": [
    "question2 = \"Can it be used to implement RPO close to zero?\"\n",
    "\n",
    "response2 = chat_engine.chat(question2)"
   ]
  },
  {
   "cell_type": "code",
   "execution_count": 17,
   "id": "ec9aff17-18cf-42f4-8f5d-02c2866c7926",
   "metadata": {},
   "outputs": [
    {
     "name": "stdout",
     "output_type": "stream",
     "text": [
      "Yes, Oracle Data Guard can help achieve a Recovery Point Objective (RPO) that is close to zero. This means that in the event of a disaster, the data loss would be minimal, virtually approaching zero.\n",
      "\n",
      "Data Guard achieves this by continuously replicating and applying changes from the primary database to the standby databases in real-time or near-real time. The synchronous mode of Data Guard, known as Maximum Protection, ensures that the standby database remains up-to-date with the primary database. This real-time synchronization significantly reduces the time window for data loss, thereby minimizing the RPO.\n",
      "\n",
      "With Data Guard, the standby database can be configured to receive and apply changes as they occur on the primary database. This continuous replication means that when a disaster occurs, the standby database can quickly take over with nearly all transactions accounted for, resulting in an RPO that's close to zero.\n",
      "\n",
      "The actual RPO achieved depends on several factors, including the network latency between the primary and standby databases and the configuration of Data Guard. In an ideal configuration and with a robust network setup, Oracle Data Guard can help achieve an RPO that's as close to zero as technically feasible.\n",
      "\n",
      "For even stricter RPO requirements, Oracle Data Guard's Fast-Start Failover feature can further minimize the time needed to switch over to a standby database. This feature reduces the time lag between the primary and standby databases, enabling a quicker transition and an even lower RPO.\n",
      "\n",
      "So, yes, Oracle Data Guard is a powerful tool in achieving a very low RPO, enhancing the disaster recovery capabilities of your Oracle Database environment.\n"
     ]
    }
   ],
   "source": [
    "print(response2)"
   ]
  },
  {
   "cell_type": "code",
   "execution_count": null,
   "id": "ea5cb85a-c818-47eb-ae92-0784b8898c2f",
   "metadata": {},
   "outputs": [],
   "source": []
  },
  {
   "cell_type": "code",
   "execution_count": null,
   "id": "7ab5935f-5bed-465c-b7c7-f35f89a78bc7",
   "metadata": {},
   "outputs": [],
   "source": []
  }
 ],
 "metadata": {
  "kernelspec": {
   "display_name": "Python 3 (ipykernel)",
   "language": "python",
   "name": "python3"
  },
  "language_info": {
   "codemirror_mode": {
    "name": "ipython",
    "version": 3
   },
   "file_extension": ".py",
   "mimetype": "text/x-python",
   "name": "python",
   "nbconvert_exporter": "python",
   "pygments_lexer": "ipython3",
   "version": "3.11.8"
  }
 },
 "nbformat": 4,
 "nbformat_minor": 5
}
